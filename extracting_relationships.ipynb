{
 "cells": [
  {
   "cell_type": "markdown",
   "id": "9dfdf15c",
   "metadata": {},
   "source": [
    "## The Witcher: Character Relationship Network Analysis    \n",
    "\n",
    "Project to analyze the relationship network between characters in The Witcher book series using Python packages Spacy and Networkx for natural language processing and network graph visualization.  \n",
    "\n",
    "Using 'Named Entity Recognition' (NER), the texts will be parsed to collect character names that appear within each sentance, ie. [\"Geralt\", \"Yennefer\"].  \n",
    "If two character names appear within 2 sentances, we mark a relationship between them.  \n",
    "In the last steps, we graph the number of relationships to create the network tree.\n",
    "\n",
    "Notes:\n",
    "- character names that appear in each book have been pre-scraped from the web and are located in characters.csv  \n",
    "- Witcher texts sourced from github.com/dworscak/Witcher .. but credit to author Andrzej Sapkowski\n"
   ]
  },
  {
   "cell_type": "code",
   "execution_count": 85,
   "id": "1c773358",
   "metadata": {},
   "outputs": [
    {
     "data": {
      "text/html": [
       "\n",
       "        <iframe\n",
       "            width=\"1920px\"\n",
       "            height=\"1080px\"\n",
       "            src=\"witcher_communities.html\"\n",
       "            frameborder=\"0\"\n",
       "            allowfullscreen\n",
       "            \n",
       "        ></iframe>\n",
       "        "
      ],
      "text/plain": [
       "<IPython.lib.display.IFrame at 0x1b980c05660>"
      ]
     },
     "execution_count": 85,
     "metadata": {},
     "output_type": "execute_result"
    }
   ],
   "source": [
    "# Sample output from final step -- Try Dragging the Graph!\n",
    "com_net.show(\"witcher_communities.html\")"
   ]
  },
  {
   "cell_type": "code",
   "execution_count": 1,
   "id": "40faf8f3-28bb-42e8-96fe-185c9dd0ecda",
   "metadata": {},
   "outputs": [],
   "source": [
    "import pandas as pd\n",
    "import numpy as np\n",
    "import spacy\n",
    "from spacy import displacy\n",
    "import networkx as nx\n",
    "\n",
    "import matplotlib.pyplot as plt"
   ]
  },
  {
   "cell_type": "code",
   "execution_count": null,
   "id": "74f89627-c165-4b2d-971e-51a7ecf549e6",
   "metadata": {
    "collapsed": true,
    "jupyter": {
     "outputs_hidden": true
    },
    "tags": []
   },
   "outputs": [],
   "source": [
    "!python -m spacy download en_core_web_sm"
   ]
  },
  {
   "cell_type": "code",
   "execution_count": 4,
   "id": "e8f27aba-7fb0-40a7-b262-857d3d470ad3",
   "metadata": {},
   "outputs": [],
   "source": [
    "# Load spacy English languague model\n",
    "NER = spacy.load(\"en_core_web_sm\")"
   ]
  },
  {
   "cell_type": "markdown",
   "id": "0e33c585-fcc7-4011-a8db-12ac2bb33930",
   "metadata": {},
   "source": [
    "Load in the text files for each book in the series"
   ]
  },
  {
   "cell_type": "code",
   "execution_count": 5,
   "id": "c0965958-15b0-483b-b8f9-c19133bf24a9",
   "metadata": {},
   "outputs": [
    {
     "data": {
      "text/plain": [
       "[<DirEntry '1 The Last Wish.txt'>,\n",
       " <DirEntry '2 The Sword of Destiny.txt'>,\n",
       " <DirEntry '3 Blood of Elves.txt'>,\n",
       " <DirEntry '4 Times of Contempt.txt'>,\n",
       " <DirEntry '5 Baptism of Fire.txt'>,\n",
       " <DirEntry '6 The Tower of the Swallow.txt'>,\n",
       " <DirEntry '7 The Lady of the Lake.txt'>,\n",
       " <DirEntry '8 something ends something begins.txt'>]"
      ]
     },
     "execution_count": 5,
     "metadata": {},
     "output_type": "execute_result"
    }
   ],
   "source": [
    "import os\n",
    " \n",
    "# Get all book files in the data directory\n",
    "all_books = [b for b in os.scandir('data') if '.txt' in b.name]\n",
    "all_books"
   ]
  },
  {
   "cell_type": "markdown",
   "id": "19c3fb7e",
   "metadata": {},
   "source": [
    "Quick test of Spacy reader to see Entity Recognition output"
   ]
  },
  {
   "cell_type": "code",
   "execution_count": 26,
   "id": "5c70eece-eb4d-490a-9e85-406ef55bb847",
   "metadata": {},
   "outputs": [],
   "source": [
    "# Read text, test output\n",
    "book = all_books[0]\n",
    "book_text = open(book).read()\n",
    "book_doc = NER(book_text)"
   ]
  },
  {
   "cell_type": "code",
   "execution_count": 27,
   "id": "9f5f7003-c1d3-4b1e-a0d3-9493e5d350d6",
   "metadata": {
    "collapsed": true,
    "jupyter": {
     "outputs_hidden": true
    },
    "tags": []
   },
   "outputs": [
    {
     "data": {
      "text/html": [
       "<span class=\"tex2jax_ignore\"><div class=\"entities\" style=\"line-height: 2.5; direction: ltr\">ï»¿'Does she always devour her victims?' </br></br>Velerad spat vehemently on the straw. </br></br>'Come on, \n",
       "<mark class=\"entity\" style=\"background: #aa9cfc; padding: 0.45em 0.6em; margin: 0 0.25em; line-height: 1; border-radius: 0.35em;\">\n",
       "    Geralt\n",
       "    <span style=\"font-size: 0.8em; font-weight: bold; line-height: 1; border-radius: 0.35em; vertical-align: middle; margin-left: 0.5rem\">PERSON</span>\n",
       "</mark>\n",
       ", it'll be supper soon. Pish! Devours, takes a bite, leaves aside, it varies - </br>according to her mood, no doubt. She only bit the head from one, gutted a couple, and a few </br>more she picked clean to the bone, sucked them dry, you could say. Damned mother's-!' </br></br>'Careful, \n",
       "<mark class=\"entity\" style=\"background: #feca74; padding: 0.45em 0.6em; margin: 0 0.25em; line-height: 1; border-radius: 0.35em;\">\n",
       "    Velerad\n",
       "    <span style=\"font-size: 0.8em; font-weight: bold; line-height: 1; border-radius: 0.35em; vertical-align: middle; margin-left: 0.5rem\">GPE</span>\n",
       "</mark>\n",
       ",' snarled \n",
       "<mark class=\"entity\" style=\"background: #7aecec; padding: 0.45em 0.6em; margin: 0 0.25em; line-height: 1; border-radius: 0.35em;\">\n",
       "    Ostrit\n",
       "    <span style=\"font-size: 0.8em; font-weight: bold; line-height: 1; border-radius: 0.35em; vertical-align: middle; margin-left: 0.5rem\">ORG</span>\n",
       "</mark>\n",
       ". 'Say what you want about the striga but do not insult \n",
       "<mark class=\"entity\" style=\"background: #aa9cfc; padding: 0.45em 0.6em; margin: 0 0.25em; line-height: 1; border-radius: 0.35em;\">\n",
       "    Adda\n",
       "    <span style=\"font-size: 0.8em; font-weight: bold; line-height: 1; border-radius: 0.35em; vertical-align: middle; margin-left: 0.5rem\">PERSON</span>\n",
       "</mark>\n",
       " </br>in front of me, as you would not dare in the king's presence!' </br></br>'Has anyone she's attacked survived?' The witcher asked, apparently paying no special </br>attention to the magnate's outburst. </br></br>\n",
       "<mark class=\"entity\" style=\"background: #aa9cfc; padding: 0.45em 0.6em; margin: 0 0.25em; line-height: 1; border-radius: 0.35em;\">\n",
       "    Segelin\n",
       "    <span style=\"font-size: 0.8em; font-weight: bold; line-height: 1; border-radius: 0.35em; vertical-align: middle; margin-left: 0.5rem\">PERSON</span>\n",
       "</mark>\n",
       " and \n",
       "<mark class=\"entity\" style=\"background: #feca74; padding: 0.45em 0.6em; margin: 0 0.25em; line-height: 1; border-radius: 0.35em;\">\n",
       "    Ostrit\n",
       "    <span style=\"font-size: 0.8em; font-weight: bold; line-height: 1; border-radius: 0.35em; vertical-align: middle; margin-left: 0.5rem\">GPE</span>\n",
       "</mark>\n",
       " looked at each other. </br></br>'Yes,' said the bearded man. 'At the very beginning, \n",
       "<mark class=\"entity\" style=\"background: #bfe1d9; padding: 0.45em 0.6em; margin: 0 0.25em; line-height: 1; border-radius: 0.35em;\">\n",
       "    seven years ago\n",
       "    <span style=\"font-size: 0.8em; font-weight: bold; line-height: 1; border-radius: 0.35em; vertical-align: middle; margin-left: 0.5rem\">DATE</span>\n",
       "</mark>\n",
       ", she threw herself at \n",
       "<mark class=\"entity\" style=\"background: #e4e7d2; padding: 0.45em 0.6em; margin: 0 0.25em; line-height: 1; border-radius: 0.35em;\">\n",
       "    two\n",
       "    <span style=\"font-size: 0.8em; font-weight: bold; line-height: 1; border-radius: 0.35em; vertical-align: middle; margin-left: 0.5rem\">CARDINAL</span>\n",
       "</mark>\n",
       " </br>soldiers standing guard over the crypt. \n",
       "<mark class=\"entity\" style=\"background: #e4e7d2; padding: 0.45em 0.6em; margin: 0 0.25em; line-height: 1; border-radius: 0.35em;\">\n",
       "    One\n",
       "    <span style=\"font-size: 0.8em; font-weight: bold; line-height: 1; border-radius: 0.35em; vertical-align: middle; margin-left: 0.5rem\">CARDINAL</span>\n",
       "</mark>\n",
       " escaped-' </br></br>And then,' interrupted \n",
       "<mark class=\"entity\" style=\"background: #feca74; padding: 0.45em 0.6em; margin: 0 0.25em; line-height: 1; border-radius: 0.35em;\">\n",
       "    Velerad\n",
       "    <span style=\"font-size: 0.8em; font-weight: bold; line-height: 1; border-radius: 0.35em; vertical-align: middle; margin-left: 0.5rem\">GPE</span>\n",
       "</mark>\n",
       ", 'there was another, the \n",
       "<mark class=\"entity\" style=\"background: #7aecec; padding: 0.45em 0.6em; margin: 0 0.25em; line-height: 1; border-radius: 0.35em;\">\n",
       "    miller\n",
       "    <span style=\"font-size: 0.8em; font-weight: bold; line-height: 1; border-radius: 0.35em; vertical-align: middle; margin-left: 0.5rem\">ORG</span>\n",
       "</mark>\n",
       " she attacked near the town. You </br>remember . . . ?' </br></br> </br></br>IV </br></br> </br></br>The following day, \n",
       "<mark class=\"entity\" style=\"background: #bfe1d9; padding: 0.45em 0.6em; margin: 0 0.25em; line-height: 1; border-radius: 0.35em;\">\n",
       "    late in the evening\n",
       "    <span style=\"font-size: 0.8em; font-weight: bold; line-height: 1; border-radius: 0.35em; vertical-align: middle; margin-left: 0.5rem\">TIME</span>\n",
       "</mark>\n",
       ", the \n",
       "<mark class=\"entity\" style=\"background: #7aecec; padding: 0.45em 0.6em; margin: 0 0.25em; line-height: 1; border-radius: 0.35em;\">\n",
       "    miller\n",
       "    <span style=\"font-size: 0.8em; font-weight: bold; line-height: 1; border-radius: 0.35em; vertical-align: middle; margin-left: 0.5rem\">ORG</span>\n",
       "</mark>\n",
       " was brought to the small chamber above the </br>guardhouse allocated to the witcher. He was led in by a soldier in a hooded coat. </br></br>The conversation did not yield any significant results. The \n",
       "<mark class=\"entity\" style=\"background: #7aecec; padding: 0.45em 0.6em; margin: 0 0.25em; line-height: 1; border-radius: 0.35em;\">\n",
       "    miller\n",
       "    <span style=\"font-size: 0.8em; font-weight: bold; line-height: 1; border-radius: 0.35em; vertical-align: middle; margin-left: 0.5rem\">ORG</span>\n",
       "</mark>\n",
       " was terrified; he mumbled </br>and stammered, and his scars told the witcher more than he did. The striga could open her </br>jaws impressively wide and had extremely sharp teeth, including very long upper fangs - </br>\n",
       "<mark class=\"entity\" style=\"background: #e4e7d2; padding: 0.45em 0.6em; margin: 0 0.25em; line-height: 1; border-radius: 0.35em;\">\n",
       "    four\n",
       "    <span style=\"font-size: 0.8em; font-weight: bold; line-height: 1; border-radius: 0.35em; vertical-align: middle; margin-left: 0.5rem\">CARDINAL</span>\n",
       "</mark>\n",
       " of them, \n",
       "<mark class=\"entity\" style=\"background: #e4e7d2; padding: 0.45em 0.6em; margin: 0 0.25em; line-height: 1; border-radius: 0.35em;\">\n",
       "    two\n",
       "    <span style=\"font-size: 0.8em; font-weight: bold; line-height: 1; border-radius: 0.35em; vertical-align: middle; margin-left: 0.5rem\">CARDINAL</span>\n",
       "</mark>\n",
       " on each side. Her claws were sharper than a wildcat's, but less curved. And </br>it was only because of that the \n",
       "<mark class=\"entity\" style=\"background: #7aecec; padding: 0.45em 0.6em; margin: 0 0.25em; line-height: 1; border-radius: 0.35em;\">\n",
       "    miller\n",
       "    <span style=\"font-size: 0.8em; font-weight: bold; line-height: 1; border-radius: 0.35em; vertical-align: middle; margin-left: 0.5rem\">ORG</span>\n",
       "</mark>\n",
       " had managed to tear himself away. </br></br>Having finished his examination \n",
       "<mark class=\"entity\" style=\"background: #aa9cfc; padding: 0.45em 0.6em; margin: 0 0.25em; line-height: 1; border-radius: 0.35em;\">\n",
       "    Geralt\n",
       "    <span style=\"font-size: 0.8em; font-weight: bold; line-height: 1; border-radius: 0.35em; vertical-align: middle; margin-left: 0.5rem\">PERSON</span>\n",
       "</mark>\n",
       " nodded to the \n",
       "<mark class=\"entity\" style=\"background: #7aecec; padding: 0.45em 0.6em; margin: 0 0.25em; line-height: 1; border-radius: 0.35em;\">\n",
       "    miller\n",
       "    <span style=\"font-size: 0.8em; font-weight: bold; line-height: 1; border-radius: 0.35em; vertical-align: middle; margin-left: 0.5rem\">ORG</span>\n",
       "</mark>\n",
       " and soldier, dismissing them. </br>The soldier pushed the peasant through the door and lowered his hood. It was \n",
       "<mark class=\"entity\" style=\"background: #7aecec; padding: 0.45em 0.6em; margin: 0 0.25em; line-height: 1; border-radius: 0.35em;\">\n",
       "    Foltest\n",
       "    <span style=\"font-size: 0.8em; font-weight: bold; line-height: 1; border-radius: 0.35em; vertical-align: middle; margin-left: 0.5rem\">ORG</span>\n",
       "</mark>\n",
       " himself. </br></br>'Sit, do not get up,' said the king. 'This visit is unofficial. Are you happy with the interview? I </br>heard you were at the palace \n",
       "<mark class=\"entity\" style=\"background: #bfe1d9; padding: 0.45em 0.6em; margin: 0 0.25em; line-height: 1; border-radius: 0.35em;\">\n",
       "    this morning\n",
       "    <span style=\"font-size: 0.8em; font-weight: bold; line-height: 1; border-radius: 0.35em; vertical-align: middle; margin-left: 0.5rem\">TIME</span>\n",
       "</mark>\n",
       ".' </br></br>'Yes, your Majesty.' </br></br>'When will you set about your task?' </br></br>'It is \n",
       "<mark class=\"entity\" style=\"background: #bfe1d9; padding: 0.45em 0.6em; margin: 0 0.25em; line-height: 1; border-radius: 0.35em;\">\n",
       "    four days\n",
       "    <span style=\"font-size: 0.8em; font-weight: bold; line-height: 1; border-radius: 0.35em; vertical-align: middle; margin-left: 0.5rem\">DATE</span>\n",
       "</mark>\n",
       " until the full moon. After that.' </br></br>'You prefer to have a look at her yourself beforehand?' </br></br>'There is no need. But having had her fill the- the princess </div></span>"
      ],
      "text/plain": [
       "<IPython.core.display.HTML object>"
      ]
     },
     "metadata": {},
     "output_type": "display_data"
    }
   ],
   "source": [
    "# Visualize identified entities\n",
    "displacy.render(book_doc[0:500], style=\"ent\", jupyter=True)"
   ]
  },
  {
   "cell_type": "markdown",
   "id": "0d8ba555-2141-4372-99ef-00185775c031",
   "metadata": {},
   "source": [
    "Looks good - Now load in all character names from .csv"
   ]
  },
  {
   "cell_type": "code",
   "execution_count": 28,
   "id": "c7e8d75c-a585-4190-b5aa-411093ca32d2",
   "metadata": {},
   "outputs": [],
   "source": [
    "# Read characters\n",
    "character_df = pd.read_csv(\"characters.csv\")"
   ]
  },
  {
   "cell_type": "code",
   "execution_count": 29,
   "id": "d2d1c2ce-3fc8-4e40-88fa-f09e5a98b80a",
   "metadata": {},
   "outputs": [],
   "source": [
    "# Remove brackets and text within brackets\n",
    "# Split character names into first_name for simplicity\n",
    "import re \n",
    "character_df['character'] = character_df['character'].apply(lambda x: re.sub(\"[\\(].*?[\\)]\", \"\", x)) \n",
    "character_df['character_firstname'] = character_df['character'].apply(lambda x: x.split(' ', 1)[0])"
   ]
  },
  {
   "cell_type": "code",
   "execution_count": 11,
   "id": "e18b4723-8341-435c-a31d-6afcac487afa",
   "metadata": {
    "collapsed": true,
    "jupyter": {
     "outputs_hidden": true
    },
    "tags": []
   },
   "outputs": [
    {
     "data": {
      "text/html": [
       "<div>\n",
       "<style scoped>\n",
       "    .dataframe tbody tr th:only-of-type {\n",
       "        vertical-align: middle;\n",
       "    }\n",
       "\n",
       "    .dataframe tbody tr th {\n",
       "        vertical-align: top;\n",
       "    }\n",
       "\n",
       "    .dataframe thead th {\n",
       "        text-align: right;\n",
       "    }\n",
       "</style>\n",
       "<table border=\"1\" class=\"dataframe\">\n",
       "  <thead>\n",
       "    <tr style=\"text-align: right;\">\n",
       "      <th></th>\n",
       "      <th>book</th>\n",
       "      <th>character</th>\n",
       "      <th>character_firstname</th>\n",
       "    </tr>\n",
       "  </thead>\n",
       "  <tbody>\n",
       "    <tr>\n",
       "      <th>0</th>\n",
       "      <td>Category:Baptism of Fire characters</td>\n",
       "      <td>Adalia</td>\n",
       "      <td>Adalia</td>\n",
       "    </tr>\n",
       "    <tr>\n",
       "      <th>1</th>\n",
       "      <td>Category:Baptism of Fire characters</td>\n",
       "      <td>Adela</td>\n",
       "      <td>Adela</td>\n",
       "    </tr>\n",
       "    <tr>\n",
       "      <th>2</th>\n",
       "      <td>Category:Baptism of Fire characters</td>\n",
       "      <td>Aen Saevherne</td>\n",
       "      <td>Aen</td>\n",
       "    </tr>\n",
       "    <tr>\n",
       "      <th>3</th>\n",
       "      <td>Category:Baptism of Fire characters</td>\n",
       "      <td>Aevenien</td>\n",
       "      <td>Aevenien</td>\n",
       "    </tr>\n",
       "    <tr>\n",
       "      <th>4</th>\n",
       "      <td>Category:Baptism of Fire characters</td>\n",
       "      <td>Aglaïs</td>\n",
       "      <td>Aglaïs</td>\n",
       "    </tr>\n",
       "    <tr>\n",
       "      <th>5</th>\n",
       "      <td>Category:Baptism of Fire characters</td>\n",
       "      <td>Albrich</td>\n",
       "      <td>Albrich</td>\n",
       "    </tr>\n",
       "    <tr>\n",
       "      <th>6</th>\n",
       "      <td>Category:Baptism of Fire characters</td>\n",
       "      <td>Amavet</td>\n",
       "      <td>Amavet</td>\n",
       "    </tr>\n",
       "    <tr>\n",
       "      <th>7</th>\n",
       "      <td>Category:Baptism of Fire characters</td>\n",
       "      <td>Angus Bri Cri</td>\n",
       "      <td>Angus</td>\n",
       "    </tr>\n",
       "    <tr>\n",
       "      <th>8</th>\n",
       "      <td>Category:Baptism of Fire characters</td>\n",
       "      <td>Anna Kameny</td>\n",
       "      <td>Anna</td>\n",
       "    </tr>\n",
       "    <tr>\n",
       "      <th>9</th>\n",
       "      <td>Category:Baptism of Fire characters</td>\n",
       "      <td>Anzelm Aubry</td>\n",
       "      <td>Anzelm</td>\n",
       "    </tr>\n",
       "  </tbody>\n",
       "</table>\n",
       "</div>"
      ],
      "text/plain": [
       "                                  book      character character_firstname\n",
       "0  Category:Baptism of Fire characters         Adalia              Adalia\n",
       "1  Category:Baptism of Fire characters          Adela               Adela\n",
       "2  Category:Baptism of Fire characters  Aen Saevherne                 Aen\n",
       "3  Category:Baptism of Fire characters       Aevenien            Aevenien\n",
       "4  Category:Baptism of Fire characters         Aglaïs              Aglaïs\n",
       "5  Category:Baptism of Fire characters        Albrich             Albrich\n",
       "6  Category:Baptism of Fire characters         Amavet              Amavet\n",
       "7  Category:Baptism of Fire characters  Angus Bri Cri               Angus\n",
       "8  Category:Baptism of Fire characters    Anna Kameny                Anna\n",
       "9  Category:Baptism of Fire characters   Anzelm Aubry              Anzelm"
      ]
     },
     "execution_count": 11,
     "metadata": {},
     "output_type": "execute_result"
    }
   ],
   "source": [
    "# Preview character_df \n",
    "pd.set_option('display.max_rows', None)\n",
    "character_df.head(10)"
   ]
  },
  {
   "cell_type": "markdown",
   "id": "ed7a4727-37c5-4e4d-8832-771aa6523321",
   "metadata": {},
   "source": [
    "Get named entity list per sentence"
   ]
  },
  {
   "cell_type": "code",
   "execution_count": 30,
   "id": "c5bad64c-2e27-4b85-b5e2-73cc92dc1f9d",
   "metadata": {},
   "outputs": [],
   "source": [
    "sent_entity_df = []\n",
    "\n",
    "# Loop through sentences, store named entity list for each sentence\n",
    "for sent in book_doc.sents:\n",
    "    entity_list = [ent.text for ent in sent.ents]\n",
    "    sent_entity_df.append({\"sentence\": sent, \"entities\": entity_list})\n",
    "    \n",
    "sent_entity_df = pd.DataFrame(sent_entity_df)"
   ]
  },
  {
   "cell_type": "code",
   "execution_count": 31,
   "id": "66c7bbb8-0611-49e0-b372-0350d777a66f",
   "metadata": {
    "collapsed": true,
    "jupyter": {
     "outputs_hidden": true
    },
    "tags": []
   },
   "outputs": [
    {
     "data": {
      "text/html": [
       "<div>\n",
       "<style scoped>\n",
       "    .dataframe tbody tr th:only-of-type {\n",
       "        vertical-align: middle;\n",
       "    }\n",
       "\n",
       "    .dataframe tbody tr th {\n",
       "        vertical-align: top;\n",
       "    }\n",
       "\n",
       "    .dataframe thead th {\n",
       "        text-align: right;\n",
       "    }\n",
       "</style>\n",
       "<table border=\"1\" class=\"dataframe\">\n",
       "  <thead>\n",
       "    <tr style=\"text-align: right;\">\n",
       "      <th></th>\n",
       "      <th>sentence</th>\n",
       "      <th>entities</th>\n",
       "    </tr>\n",
       "  </thead>\n",
       "  <tbody>\n",
       "    <tr>\n",
       "      <th>0</th>\n",
       "      <td>(ï»¿'Does, she, always, devour, her, victims, ...</td>\n",
       "      <td>[]</td>\n",
       "    </tr>\n",
       "    <tr>\n",
       "      <th>1</th>\n",
       "      <td>(\\n\\n, ', Come, on, ,, Geralt, ,, it, 'll, be,...</td>\n",
       "      <td>[Geralt]</td>\n",
       "    </tr>\n",
       "    <tr>\n",
       "      <th>2</th>\n",
       "      <td>(Pish, !)</td>\n",
       "      <td>[]</td>\n",
       "    </tr>\n",
       "    <tr>\n",
       "      <th>3</th>\n",
       "      <td>(Devours, ,, takes, a, bite, ,, leaves, aside,...</td>\n",
       "      <td>[]</td>\n",
       "    </tr>\n",
       "    <tr>\n",
       "      <th>4</th>\n",
       "      <td>(She, only, bit, the, head, from, one, ,, gutt...</td>\n",
       "      <td>[]</td>\n",
       "    </tr>\n",
       "    <tr>\n",
       "      <th>5</th>\n",
       "      <td>(Damned, mother's-, !, ', \\n\\n, ', Careful, ,,...</td>\n",
       "      <td>[Velerad, Ostrit]</td>\n",
       "    </tr>\n",
       "    <tr>\n",
       "      <th>6</th>\n",
       "      <td>(', Say, what, you, want, about, the, striga, ...</td>\n",
       "      <td>[Adda]</td>\n",
       "    </tr>\n",
       "    <tr>\n",
       "      <th>7</th>\n",
       "      <td>(\\n\\n, ', Has, anyone, she, 's, attacked, surv...</td>\n",
       "      <td>[]</td>\n",
       "    </tr>\n",
       "    <tr>\n",
       "      <th>8</th>\n",
       "      <td>(The, witcher, asked, ,, apparently, paying, n...</td>\n",
       "      <td>[]</td>\n",
       "    </tr>\n",
       "    <tr>\n",
       "      <th>9</th>\n",
       "      <td>(Segelin, and, Ostrit, looked, at, each, other...</td>\n",
       "      <td>[Segelin, Ostrit]</td>\n",
       "    </tr>\n",
       "    <tr>\n",
       "      <th>10</th>\n",
       "      <td>(\\n\\n)</td>\n",
       "      <td>[]</td>\n",
       "    </tr>\n",
       "    <tr>\n",
       "      <th>11</th>\n",
       "      <td>(', Yes, ,, ', said, the, bearded, man, .)</td>\n",
       "      <td>[]</td>\n",
       "    </tr>\n",
       "    <tr>\n",
       "      <th>12</th>\n",
       "      <td>(', At, the, very, beginning, ,, seven, years,...</td>\n",
       "      <td>[seven years ago, two]</td>\n",
       "    </tr>\n",
       "    <tr>\n",
       "      <th>13</th>\n",
       "      <td>(One, escaped-, ', \\n\\n)</td>\n",
       "      <td>[One]</td>\n",
       "    </tr>\n",
       "    <tr>\n",
       "      <th>14</th>\n",
       "      <td>(And, then, ,, ', interrupted, Velerad, ,, ', ...</td>\n",
       "      <td>[Velerad, miller]</td>\n",
       "    </tr>\n",
       "  </tbody>\n",
       "</table>\n",
       "</div>"
      ],
      "text/plain": [
       "                                             sentence                entities\n",
       "0   (ï»¿'Does, she, always, devour, her, victims, ...                      []\n",
       "1   (\\n\\n, ', Come, on, ,, Geralt, ,, it, 'll, be,...                [Geralt]\n",
       "2                                           (Pish, !)                      []\n",
       "3   (Devours, ,, takes, a, bite, ,, leaves, aside,...                      []\n",
       "4   (She, only, bit, the, head, from, one, ,, gutt...                      []\n",
       "5   (Damned, mother's-, !, ', \\n\\n, ', Careful, ,,...       [Velerad, Ostrit]\n",
       "6   (', Say, what, you, want, about, the, striga, ...                  [Adda]\n",
       "7   (\\n\\n, ', Has, anyone, she, 's, attacked, surv...                      []\n",
       "8   (The, witcher, asked, ,, apparently, paying, n...                      []\n",
       "9   (Segelin, and, Ostrit, looked, at, each, other...       [Segelin, Ostrit]\n",
       "10                                             (\\n\\n)                      []\n",
       "11         (', Yes, ,, ', said, the, bearded, man, .)                      []\n",
       "12  (', At, the, very, beginning, ,, seven, years,...  [seven years ago, two]\n",
       "13                           (One, escaped-, ', \\n\\n)                   [One]\n",
       "14  (And, then, ,, ', interrupted, Velerad, ,, ', ...       [Velerad, miller]"
      ]
     },
     "execution_count": 31,
     "metadata": {},
     "output_type": "execute_result"
    }
   ],
   "source": [
    "sent_entity_df.head(20)"
   ]
  },
  {
   "cell_type": "code",
   "execution_count": 32,
   "id": "a1ebbac7-530b-4212-ac64-3f81a3980fa4",
   "metadata": {},
   "outputs": [],
   "source": [
    "# Function to filter out non-character entities\n",
    "def filter_entity(ent_list, character_df):\n",
    "    return [ent for ent in ent_list \n",
    "            if ent in list(character_df.character) \n",
    "            or ent in list(character_df.character_firstname)]"
   ]
  },
  {
   "cell_type": "code",
   "execution_count": 17,
   "id": "d1461bb0-a318-42af-8e2f-64f6b418381e",
   "metadata": {},
   "outputs": [
    {
     "data": {
      "text/plain": [
       "['Geralt']"
      ]
     },
     "execution_count": 17,
     "metadata": {},
     "output_type": "execute_result"
    }
   ],
   "source": [
    "filter_entity([\"Geralt\", \"test\", \"2\"], character_df)"
   ]
  },
  {
   "cell_type": "code",
   "execution_count": 23,
   "id": "10817612-87cb-47f3-b154-60636718e302",
   "metadata": {},
   "outputs": [
    {
     "data": {
      "text/html": [
       "<div>\n",
       "<style scoped>\n",
       "    .dataframe tbody tr th:only-of-type {\n",
       "        vertical-align: middle;\n",
       "    }\n",
       "\n",
       "    .dataframe tbody tr th {\n",
       "        vertical-align: top;\n",
       "    }\n",
       "\n",
       "    .dataframe thead th {\n",
       "        text-align: right;\n",
       "    }\n",
       "</style>\n",
       "<table border=\"1\" class=\"dataframe\">\n",
       "  <thead>\n",
       "    <tr style=\"text-align: right;\">\n",
       "      <th></th>\n",
       "      <th>sentence</th>\n",
       "      <th>entities</th>\n",
       "      <th>character_entities</th>\n",
       "    </tr>\n",
       "  </thead>\n",
       "  <tbody>\n",
       "    <tr>\n",
       "      <th>96</th>\n",
       "      <td>(Is, there, anything, keeping, you, in, this, ...</td>\n",
       "      <td>[Geralt, Rivia]</td>\n",
       "      <td>[Geralt]</td>\n",
       "    </tr>\n",
       "    <tr>\n",
       "      <th>104</th>\n",
       "      <td>(\", \\n, \", Borch, ,, \", replied, Geralt, ,, wh...</td>\n",
       "      <td>[Borch, Geralt]</td>\n",
       "      <td>[Geralt]</td>\n",
       "    </tr>\n",
       "    <tr>\n",
       "      <th>108</th>\n",
       "      <td>(\", \\n, \", There, are, some, ,, \", Geralt, rep...</td>\n",
       "      <td>[Geralt]</td>\n",
       "      <td>[Geralt]</td>\n",
       "    </tr>\n",
       "    <tr>\n",
       "      <th>140</th>\n",
       "      <td>(\", I, forgot, ,, \", Three, Jackdaws, winked, ...</td>\n",
       "      <td>[Three, Geralt]</td>\n",
       "      <td>[Geralt]</td>\n",
       "    </tr>\n",
       "    <tr>\n",
       "      <th>151</th>\n",
       "      <td>(Geralt, loosened, his, belt, ,, removed, his,...</td>\n",
       "      <td>[Geralt]</td>\n",
       "      <td>[Geralt]</td>\n",
       "    </tr>\n",
       "    <tr>\n",
       "      <th>157</th>\n",
       "      <td>(\", Do, the, girls, speak, the, common, langua...</td>\n",
       "      <td>[Geralt]</td>\n",
       "      <td>[Geralt]</td>\n",
       "    </tr>\n",
       "    <tr>\n",
       "      <th>160</th>\n",
       "      <td>(How, 's, your, soup, ,, Geralt, ?, \", \\n, \", ...</td>\n",
       "      <td>[Geralt]</td>\n",
       "      <td>[Geralt]</td>\n",
       "    </tr>\n",
       "    <tr>\n",
       "      <th>172</th>\n",
       "      <td>(Yet, there, is, a, certain, principal, underl...</td>\n",
       "      <td>[Geralt]</td>\n",
       "      <td>[Geralt]</td>\n",
       "    </tr>\n",
       "    <tr>\n",
       "      <th>201</th>\n",
       "      <td>(\", Bad, example, ,, \", interrupted, Geralt, .)</td>\n",
       "      <td>[Bad, Geralt]</td>\n",
       "      <td>[Geralt]</td>\n",
       "    </tr>\n",
       "    <tr>\n",
       "      <th>211</th>\n",
       "      <td>(\", I, do, not, hunt, dragons, ,, \", Geralt, r...</td>\n",
       "      <td>[Geralt]</td>\n",
       "      <td>[Geralt]</td>\n",
       "    </tr>\n",
       "    <tr>\n",
       "      <th>229</th>\n",
       "      <td>(\", I, know, ,, \", replied, Geralt, ,, nodding...</td>\n",
       "      <td>[Geralt]</td>\n",
       "      <td>[Geralt]</td>\n",
       "    </tr>\n",
       "    <tr>\n",
       "      <th>240</th>\n",
       "      <td>(\", So, ,, Geralt, ,, \", he, continued, ,, \", ...</td>\n",
       "      <td>[Geralt]</td>\n",
       "      <td>[Geralt]</td>\n",
       "    </tr>\n",
       "    <tr>\n",
       "      <th>256</th>\n",
       "      <td>(\", I, know, ,, \", replied, Geralt, ,, swallow...</td>\n",
       "      <td>[Geralt]</td>\n",
       "      <td>[Geralt]</td>\n",
       "    </tr>\n",
       "    <tr>\n",
       "      <th>270</th>\n",
       "      <td>(\", That, is, so, ,, \", confirmed, Geralt, ,, ...</td>\n",
       "      <td>[Geralt]</td>\n",
       "      <td>[Geralt]</td>\n",
       "    </tr>\n",
       "    <tr>\n",
       "      <th>275</th>\n",
       "      <td>(\", Now, you, oppose, natural, law, ,, Geralt, .)</td>\n",
       "      <td>[Geralt]</td>\n",
       "      <td>[Geralt]</td>\n",
       "    </tr>\n",
       "    <tr>\n",
       "      <th>284</th>\n",
       "      <td>(\", Mutants, ..., \", the, muscles, in, Geralt,...</td>\n",
       "      <td>[Geralt]</td>\n",
       "      <td>[Geralt]</td>\n",
       "    </tr>\n",
       "    <tr>\n",
       "      <th>304</th>\n",
       "      <td>(\", What, 's, your, real, name, ?, \", asked, G...</td>\n",
       "      <td>[Geralt]</td>\n",
       "      <td>[Geralt]</td>\n",
       "    </tr>\n",
       "    <tr>\n",
       "      <th>330</th>\n",
       "      <td>(Her, lovely, breasts, ,, contrary, to, Geralt...</td>\n",
       "      <td>[Geralt]</td>\n",
       "      <td>[Geralt]</td>\n",
       "    </tr>\n",
       "    <tr>\n",
       "      <th>369</th>\n",
       "      <td>(\", \\n, 12, \\n, \", How, stupid, ,, \", interrup...</td>\n",
       "      <td>[12, Geralt]</td>\n",
       "      <td>[Geralt]</td>\n",
       "    </tr>\n",
       "    <tr>\n",
       "      <th>372</th>\n",
       "      <td>(What, 's, it, got, to, do, with, Niedamir, ?, \")</td>\n",
       "      <td>[Niedamir]</td>\n",
       "      <td>[Niedamir]</td>\n",
       "    </tr>\n",
       "  </tbody>\n",
       "</table>\n",
       "</div>"
      ],
      "text/plain": [
       "                                              sentence         entities  \\\n",
       "96   (Is, there, anything, keeping, you, in, this, ...  [Geralt, Rivia]   \n",
       "104  (\", \\n, \", Borch, ,, \", replied, Geralt, ,, wh...  [Borch, Geralt]   \n",
       "108  (\", \\n, \", There, are, some, ,, \", Geralt, rep...         [Geralt]   \n",
       "140  (\", I, forgot, ,, \", Three, Jackdaws, winked, ...  [Three, Geralt]   \n",
       "151  (Geralt, loosened, his, belt, ,, removed, his,...         [Geralt]   \n",
       "157  (\", Do, the, girls, speak, the, common, langua...         [Geralt]   \n",
       "160  (How, 's, your, soup, ,, Geralt, ?, \", \\n, \", ...         [Geralt]   \n",
       "172  (Yet, there, is, a, certain, principal, underl...         [Geralt]   \n",
       "201    (\", Bad, example, ,, \", interrupted, Geralt, .)    [Bad, Geralt]   \n",
       "211  (\", I, do, not, hunt, dragons, ,, \", Geralt, r...         [Geralt]   \n",
       "229  (\", I, know, ,, \", replied, Geralt, ,, nodding...         [Geralt]   \n",
       "240  (\", So, ,, Geralt, ,, \", he, continued, ,, \", ...         [Geralt]   \n",
       "256  (\", I, know, ,, \", replied, Geralt, ,, swallow...         [Geralt]   \n",
       "270  (\", That, is, so, ,, \", confirmed, Geralt, ,, ...         [Geralt]   \n",
       "275  (\", Now, you, oppose, natural, law, ,, Geralt, .)         [Geralt]   \n",
       "284  (\", Mutants, ..., \", the, muscles, in, Geralt,...         [Geralt]   \n",
       "304  (\", What, 's, your, real, name, ?, \", asked, G...         [Geralt]   \n",
       "330  (Her, lovely, breasts, ,, contrary, to, Geralt...         [Geralt]   \n",
       "369  (\", \\n, 12, \\n, \", How, stupid, ,, \", interrup...     [12, Geralt]   \n",
       "372  (What, 's, it, got, to, do, with, Niedamir, ?, \")       [Niedamir]   \n",
       "\n",
       "    character_entities  \n",
       "96            [Geralt]  \n",
       "104           [Geralt]  \n",
       "108           [Geralt]  \n",
       "140           [Geralt]  \n",
       "151           [Geralt]  \n",
       "157           [Geralt]  \n",
       "160           [Geralt]  \n",
       "172           [Geralt]  \n",
       "201           [Geralt]  \n",
       "211           [Geralt]  \n",
       "229           [Geralt]  \n",
       "240           [Geralt]  \n",
       "256           [Geralt]  \n",
       "270           [Geralt]  \n",
       "275           [Geralt]  \n",
       "284           [Geralt]  \n",
       "304           [Geralt]  \n",
       "330           [Geralt]  \n",
       "369           [Geralt]  \n",
       "372         [Niedamir]  "
      ]
     },
     "execution_count": 23,
     "metadata": {},
     "output_type": "execute_result"
    }
   ],
   "source": [
    "sent_entity_df['character_entities'] = sent_entity_df['entities'].apply(lambda x: filter_entity(x, character_df))\n",
    "\n",
    "# Filter out sentences that don't have any character entities\n",
    "sent_entity_df_filtered = sent_entity_df[sent_entity_df['character_entities'].map(len) > 0]\n",
    "sent_entity_df_filtered.head(20)"
   ]
  },
  {
   "cell_type": "code",
   "execution_count": null,
   "id": "615e1e75-c852-4661-abd4-963e7df9e769",
   "metadata": {},
   "outputs": [],
   "source": [
    "# Take only first name of characters\n",
    "sent_entity_df_filtered['character_entities'] = sent_entity_df_filtered['character_entities'].apply(lambda x: [item.split()[0] for item in x])"
   ]
  },
  {
   "cell_type": "code",
   "execution_count": 33,
   "id": "37d460d3-f9e7-43a6-b501-0682a7032883",
   "metadata": {},
   "outputs": [
    {
     "data": {
      "text/html": [
       "<div>\n",
       "<style scoped>\n",
       "    .dataframe tbody tr th:only-of-type {\n",
       "        vertical-align: middle;\n",
       "    }\n",
       "\n",
       "    .dataframe tbody tr th {\n",
       "        vertical-align: top;\n",
       "    }\n",
       "\n",
       "    .dataframe thead th {\n",
       "        text-align: right;\n",
       "    }\n",
       "</style>\n",
       "<table border=\"1\" class=\"dataframe\">\n",
       "  <thead>\n",
       "    <tr style=\"text-align: right;\">\n",
       "      <th></th>\n",
       "      <th>sentence</th>\n",
       "      <th>entities</th>\n",
       "      <th>character_entities</th>\n",
       "    </tr>\n",
       "  </thead>\n",
       "  <tbody>\n",
       "    <tr>\n",
       "      <th>96</th>\n",
       "      <td>(Is, there, anything, keeping, you, in, this, ...</td>\n",
       "      <td>[Geralt, Rivia]</td>\n",
       "      <td>[Geralt]</td>\n",
       "    </tr>\n",
       "    <tr>\n",
       "      <th>104</th>\n",
       "      <td>(\", \\n, \", Borch, ,, \", replied, Geralt, ,, wh...</td>\n",
       "      <td>[Borch, Geralt]</td>\n",
       "      <td>[Geralt]</td>\n",
       "    </tr>\n",
       "    <tr>\n",
       "      <th>108</th>\n",
       "      <td>(\", \\n, \", There, are, some, ,, \", Geralt, rep...</td>\n",
       "      <td>[Geralt]</td>\n",
       "      <td>[Geralt]</td>\n",
       "    </tr>\n",
       "    <tr>\n",
       "      <th>140</th>\n",
       "      <td>(\", I, forgot, ,, \", Three, Jackdaws, winked, ...</td>\n",
       "      <td>[Three, Geralt]</td>\n",
       "      <td>[Geralt]</td>\n",
       "    </tr>\n",
       "    <tr>\n",
       "      <th>151</th>\n",
       "      <td>(Geralt, loosened, his, belt, ,, removed, his,...</td>\n",
       "      <td>[Geralt]</td>\n",
       "      <td>[Geralt]</td>\n",
       "    </tr>\n",
       "    <tr>\n",
       "      <th>157</th>\n",
       "      <td>(\", Do, the, girls, speak, the, common, langua...</td>\n",
       "      <td>[Geralt]</td>\n",
       "      <td>[Geralt]</td>\n",
       "    </tr>\n",
       "    <tr>\n",
       "      <th>160</th>\n",
       "      <td>(How, 's, your, soup, ,, Geralt, ?, \", \\n, \", ...</td>\n",
       "      <td>[Geralt]</td>\n",
       "      <td>[Geralt]</td>\n",
       "    </tr>\n",
       "    <tr>\n",
       "      <th>172</th>\n",
       "      <td>(Yet, there, is, a, certain, principal, underl...</td>\n",
       "      <td>[Geralt]</td>\n",
       "      <td>[Geralt]</td>\n",
       "    </tr>\n",
       "    <tr>\n",
       "      <th>201</th>\n",
       "      <td>(\", Bad, example, ,, \", interrupted, Geralt, .)</td>\n",
       "      <td>[Bad, Geralt]</td>\n",
       "      <td>[Geralt]</td>\n",
       "    </tr>\n",
       "    <tr>\n",
       "      <th>211</th>\n",
       "      <td>(\", I, do, not, hunt, dragons, ,, \", Geralt, r...</td>\n",
       "      <td>[Geralt]</td>\n",
       "      <td>[Geralt]</td>\n",
       "    </tr>\n",
       "    <tr>\n",
       "      <th>229</th>\n",
       "      <td>(\", I, know, ,, \", replied, Geralt, ,, nodding...</td>\n",
       "      <td>[Geralt]</td>\n",
       "      <td>[Geralt]</td>\n",
       "    </tr>\n",
       "    <tr>\n",
       "      <th>240</th>\n",
       "      <td>(\", So, ,, Geralt, ,, \", he, continued, ,, \", ...</td>\n",
       "      <td>[Geralt]</td>\n",
       "      <td>[Geralt]</td>\n",
       "    </tr>\n",
       "    <tr>\n",
       "      <th>256</th>\n",
       "      <td>(\", I, know, ,, \", replied, Geralt, ,, swallow...</td>\n",
       "      <td>[Geralt]</td>\n",
       "      <td>[Geralt]</td>\n",
       "    </tr>\n",
       "    <tr>\n",
       "      <th>270</th>\n",
       "      <td>(\", That, is, so, ,, \", confirmed, Geralt, ,, ...</td>\n",
       "      <td>[Geralt]</td>\n",
       "      <td>[Geralt]</td>\n",
       "    </tr>\n",
       "    <tr>\n",
       "      <th>275</th>\n",
       "      <td>(\", Now, you, oppose, natural, law, ,, Geralt, .)</td>\n",
       "      <td>[Geralt]</td>\n",
       "      <td>[Geralt]</td>\n",
       "    </tr>\n",
       "    <tr>\n",
       "      <th>284</th>\n",
       "      <td>(\", Mutants, ..., \", the, muscles, in, Geralt,...</td>\n",
       "      <td>[Geralt]</td>\n",
       "      <td>[Geralt]</td>\n",
       "    </tr>\n",
       "    <tr>\n",
       "      <th>304</th>\n",
       "      <td>(\", What, 's, your, real, name, ?, \", asked, G...</td>\n",
       "      <td>[Geralt]</td>\n",
       "      <td>[Geralt]</td>\n",
       "    </tr>\n",
       "    <tr>\n",
       "      <th>330</th>\n",
       "      <td>(Her, lovely, breasts, ,, contrary, to, Geralt...</td>\n",
       "      <td>[Geralt]</td>\n",
       "      <td>[Geralt]</td>\n",
       "    </tr>\n",
       "    <tr>\n",
       "      <th>369</th>\n",
       "      <td>(\", \\n, 12, \\n, \", How, stupid, ,, \", interrup...</td>\n",
       "      <td>[12, Geralt]</td>\n",
       "      <td>[Geralt]</td>\n",
       "    </tr>\n",
       "    <tr>\n",
       "      <th>372</th>\n",
       "      <td>(What, 's, it, got, to, do, with, Niedamir, ?, \")</td>\n",
       "      <td>[Niedamir]</td>\n",
       "      <td>[Niedamir]</td>\n",
       "    </tr>\n",
       "  </tbody>\n",
       "</table>\n",
       "</div>"
      ],
      "text/plain": [
       "                                              sentence         entities  \\\n",
       "96   (Is, there, anything, keeping, you, in, this, ...  [Geralt, Rivia]   \n",
       "104  (\", \\n, \", Borch, ,, \", replied, Geralt, ,, wh...  [Borch, Geralt]   \n",
       "108  (\", \\n, \", There, are, some, ,, \", Geralt, rep...         [Geralt]   \n",
       "140  (\", I, forgot, ,, \", Three, Jackdaws, winked, ...  [Three, Geralt]   \n",
       "151  (Geralt, loosened, his, belt, ,, removed, his,...         [Geralt]   \n",
       "157  (\", Do, the, girls, speak, the, common, langua...         [Geralt]   \n",
       "160  (How, 's, your, soup, ,, Geralt, ?, \", \\n, \", ...         [Geralt]   \n",
       "172  (Yet, there, is, a, certain, principal, underl...         [Geralt]   \n",
       "201    (\", Bad, example, ,, \", interrupted, Geralt, .)    [Bad, Geralt]   \n",
       "211  (\", I, do, not, hunt, dragons, ,, \", Geralt, r...         [Geralt]   \n",
       "229  (\", I, know, ,, \", replied, Geralt, ,, nodding...         [Geralt]   \n",
       "240  (\", So, ,, Geralt, ,, \", he, continued, ,, \", ...         [Geralt]   \n",
       "256  (\", I, know, ,, \", replied, Geralt, ,, swallow...         [Geralt]   \n",
       "270  (\", That, is, so, ,, \", confirmed, Geralt, ,, ...         [Geralt]   \n",
       "275  (\", Now, you, oppose, natural, law, ,, Geralt, .)         [Geralt]   \n",
       "284  (\", Mutants, ..., \", the, muscles, in, Geralt,...         [Geralt]   \n",
       "304  (\", What, 's, your, real, name, ?, \", asked, G...         [Geralt]   \n",
       "330  (Her, lovely, breasts, ,, contrary, to, Geralt...         [Geralt]   \n",
       "369  (\", \\n, 12, \\n, \", How, stupid, ,, \", interrup...     [12, Geralt]   \n",
       "372  (What, 's, it, got, to, do, with, Niedamir, ?, \")       [Niedamir]   \n",
       "\n",
       "    character_entities  \n",
       "96            [Geralt]  \n",
       "104           [Geralt]  \n",
       "108           [Geralt]  \n",
       "140           [Geralt]  \n",
       "151           [Geralt]  \n",
       "157           [Geralt]  \n",
       "160           [Geralt]  \n",
       "172           [Geralt]  \n",
       "201           [Geralt]  \n",
       "211           [Geralt]  \n",
       "229           [Geralt]  \n",
       "240           [Geralt]  \n",
       "256           [Geralt]  \n",
       "270           [Geralt]  \n",
       "275           [Geralt]  \n",
       "284           [Geralt]  \n",
       "304           [Geralt]  \n",
       "330           [Geralt]  \n",
       "369           [Geralt]  \n",
       "372         [Niedamir]  "
      ]
     },
     "execution_count": 33,
     "metadata": {},
     "output_type": "execute_result"
    }
   ],
   "source": [
    "pd.reset_option('^display.', silent=True)\n",
    "sent_entity_df_filtered.head(20)"
   ]
  },
  {
   "cell_type": "markdown",
   "id": "13464cb5-e6ea-491e-bbc5-ce84801a1f3b",
   "metadata": {},
   "source": [
    "## Create relationships"
   ]
  },
  {
   "cell_type": "code",
   "execution_count": 36,
   "id": "a19c1561-f77c-41e2-9a10-f7c0c80a43b4",
   "metadata": {},
   "outputs": [],
   "source": [
    "window_size = 5\n",
    "relationships = []\n",
    "\n",
    "for i in range(sent_entity_df_filtered.index[-1]):\n",
    "    end_i = min(i+5, sent_entity_df_filtered.index[-1])\n",
    "    char_list = sum((sent_entity_df_filtered.loc[i: end_i].character_entities), [])\n",
    "    \n",
    "    # Remove duplicated characters that are next to each other\n",
    "    char_unique = [char_list[i] for i in range(len(char_list)) \n",
    "                   if (i==0) or char_list[i] != char_list[i-1]]\n",
    "    \n",
    "    if len(char_unique) > 1:\n",
    "        for idx, a in enumerate(char_unique[:-1]):\n",
    "            b = char_unique[idx + 1]\n",
    "            relationships.append({\"source\": a, \"target\": b})"
   ]
  },
  {
   "cell_type": "code",
   "execution_count": 37,
   "id": "bd1b5618-a9eb-4bd1-a9f9-19dd85f63955",
   "metadata": {},
   "outputs": [],
   "source": [
    "relationship_df = pd.DataFrame(relationships)"
   ]
  },
  {
   "cell_type": "code",
   "execution_count": 38,
   "id": "52f3f7a3-84a0-46b2-a0ae-90d8efac1029",
   "metadata": {
    "collapsed": true,
    "jupyter": {
     "outputs_hidden": true
    },
    "tags": []
   },
   "outputs": [
    {
     "data": {
      "text/html": [
       "<div>\n",
       "<style scoped>\n",
       "    .dataframe tbody tr th:only-of-type {\n",
       "        vertical-align: middle;\n",
       "    }\n",
       "\n",
       "    .dataframe tbody tr th {\n",
       "        vertical-align: top;\n",
       "    }\n",
       "\n",
       "    .dataframe thead th {\n",
       "        text-align: right;\n",
       "    }\n",
       "</style>\n",
       "<table border=\"1\" class=\"dataframe\">\n",
       "  <thead>\n",
       "    <tr style=\"text-align: right;\">\n",
       "      <th></th>\n",
       "      <th>source</th>\n",
       "      <th>target</th>\n",
       "    </tr>\n",
       "  </thead>\n",
       "  <tbody>\n",
       "    <tr>\n",
       "      <th>0</th>\n",
       "      <td>Geralt</td>\n",
       "      <td>Niedamir</td>\n",
       "    </tr>\n",
       "    <tr>\n",
       "      <th>1</th>\n",
       "      <td>Geralt</td>\n",
       "      <td>Niedamir</td>\n",
       "    </tr>\n",
       "    <tr>\n",
       "      <th>2</th>\n",
       "      <td>Geralt</td>\n",
       "      <td>Niedamir</td>\n",
       "    </tr>\n",
       "    <tr>\n",
       "      <th>3</th>\n",
       "      <td>Niedamir</td>\n",
       "      <td>Geralt</td>\n",
       "    </tr>\n",
       "    <tr>\n",
       "      <th>4</th>\n",
       "      <td>Niedamir</td>\n",
       "      <td>Geralt</td>\n",
       "    </tr>\n",
       "    <tr>\n",
       "      <th>5</th>\n",
       "      <td>Niedamir</td>\n",
       "      <td>Geralt</td>\n",
       "    </tr>\n",
       "    <tr>\n",
       "      <th>6</th>\n",
       "      <td>Niedamir</td>\n",
       "      <td>Geralt</td>\n",
       "    </tr>\n",
       "    <tr>\n",
       "      <th>7</th>\n",
       "      <td>Niedamir</td>\n",
       "      <td>Geralt</td>\n",
       "    </tr>\n",
       "    <tr>\n",
       "      <th>8</th>\n",
       "      <td>Niedamir</td>\n",
       "      <td>Geralt</td>\n",
       "    </tr>\n",
       "    <tr>\n",
       "      <th>9</th>\n",
       "      <td>Geralt</td>\n",
       "      <td>Eyck</td>\n",
       "    </tr>\n",
       "    <tr>\n",
       "      <th>10</th>\n",
       "      <td>Eyck</td>\n",
       "      <td>Geralt</td>\n",
       "    </tr>\n",
       "    <tr>\n",
       "      <th>11</th>\n",
       "      <td>Eyck</td>\n",
       "      <td>Geralt</td>\n",
       "    </tr>\n",
       "    <tr>\n",
       "      <th>12</th>\n",
       "      <td>Eyck</td>\n",
       "      <td>Geralt</td>\n",
       "    </tr>\n",
       "    <tr>\n",
       "      <th>13</th>\n",
       "      <td>Geralt</td>\n",
       "      <td>Eyck</td>\n",
       "    </tr>\n",
       "    <tr>\n",
       "      <th>14</th>\n",
       "      <td>Eyck</td>\n",
       "      <td>Geralt</td>\n",
       "    </tr>\n",
       "    <tr>\n",
       "      <th>15</th>\n",
       "      <td>Geralt</td>\n",
       "      <td>Eyck</td>\n",
       "    </tr>\n",
       "    <tr>\n",
       "      <th>16</th>\n",
       "      <td>Eyck</td>\n",
       "      <td>Geralt</td>\n",
       "    </tr>\n",
       "    <tr>\n",
       "      <th>17</th>\n",
       "      <td>Geralt</td>\n",
       "      <td>Eyck</td>\n",
       "    </tr>\n",
       "    <tr>\n",
       "      <th>18</th>\n",
       "      <td>Geralt</td>\n",
       "      <td>Eyck</td>\n",
       "    </tr>\n",
       "    <tr>\n",
       "      <th>19</th>\n",
       "      <td>Dorregaray</td>\n",
       "      <td>Geralt</td>\n",
       "    </tr>\n",
       "  </tbody>\n",
       "</table>\n",
       "</div>"
      ],
      "text/plain": [
       "        source    target\n",
       "0       Geralt  Niedamir\n",
       "1       Geralt  Niedamir\n",
       "2       Geralt  Niedamir\n",
       "3     Niedamir    Geralt\n",
       "4     Niedamir    Geralt\n",
       "5     Niedamir    Geralt\n",
       "6     Niedamir    Geralt\n",
       "7     Niedamir    Geralt\n",
       "8     Niedamir    Geralt\n",
       "9       Geralt      Eyck\n",
       "10        Eyck    Geralt\n",
       "11        Eyck    Geralt\n",
       "12        Eyck    Geralt\n",
       "13      Geralt      Eyck\n",
       "14        Eyck    Geralt\n",
       "15      Geralt      Eyck\n",
       "16        Eyck    Geralt\n",
       "17      Geralt      Eyck\n",
       "18      Geralt      Eyck\n",
       "19  Dorregaray    Geralt"
      ]
     },
     "execution_count": 38,
     "metadata": {},
     "output_type": "execute_result"
    }
   ],
   "source": [
    "# View all rows or first 20 rows as needed\n",
    "# pd.set_option('display.max_rows', None)\n",
    "relationship_df.head(20)"
   ]
  },
  {
   "cell_type": "code",
   "execution_count": 40,
   "id": "56d4210d-b8dc-429f-b3a7-9cff2d4715f2",
   "metadata": {
    "collapsed": true,
    "jupyter": {
     "outputs_hidden": true
    },
    "tags": []
   },
   "outputs": [
    {
     "data": {
      "text/html": [
       "<div>\n",
       "<style scoped>\n",
       "    .dataframe tbody tr th:only-of-type {\n",
       "        vertical-align: middle;\n",
       "    }\n",
       "\n",
       "    .dataframe tbody tr th {\n",
       "        vertical-align: top;\n",
       "    }\n",
       "\n",
       "    .dataframe thead th {\n",
       "        text-align: right;\n",
       "    }\n",
       "</style>\n",
       "<table border=\"1\" class=\"dataframe\">\n",
       "  <thead>\n",
       "    <tr style=\"text-align: right;\">\n",
       "      <th></th>\n",
       "      <th>source</th>\n",
       "      <th>target</th>\n",
       "    </tr>\n",
       "  </thead>\n",
       "  <tbody>\n",
       "    <tr>\n",
       "      <th>0</th>\n",
       "      <td>Geralt</td>\n",
       "      <td>Niedamir</td>\n",
       "    </tr>\n",
       "    <tr>\n",
       "      <th>1</th>\n",
       "      <td>Geralt</td>\n",
       "      <td>Niedamir</td>\n",
       "    </tr>\n",
       "    <tr>\n",
       "      <th>2</th>\n",
       "      <td>Geralt</td>\n",
       "      <td>Niedamir</td>\n",
       "    </tr>\n",
       "    <tr>\n",
       "      <th>3</th>\n",
       "      <td>Geralt</td>\n",
       "      <td>Niedamir</td>\n",
       "    </tr>\n",
       "    <tr>\n",
       "      <th>4</th>\n",
       "      <td>Geralt</td>\n",
       "      <td>Niedamir</td>\n",
       "    </tr>\n",
       "    <tr>\n",
       "      <th>5</th>\n",
       "      <td>Geralt</td>\n",
       "      <td>Niedamir</td>\n",
       "    </tr>\n",
       "    <tr>\n",
       "      <th>6</th>\n",
       "      <td>Geralt</td>\n",
       "      <td>Niedamir</td>\n",
       "    </tr>\n",
       "    <tr>\n",
       "      <th>7</th>\n",
       "      <td>Geralt</td>\n",
       "      <td>Niedamir</td>\n",
       "    </tr>\n",
       "    <tr>\n",
       "      <th>8</th>\n",
       "      <td>Geralt</td>\n",
       "      <td>Niedamir</td>\n",
       "    </tr>\n",
       "    <tr>\n",
       "      <th>9</th>\n",
       "      <td>Eyck</td>\n",
       "      <td>Geralt</td>\n",
       "    </tr>\n",
       "    <tr>\n",
       "      <th>10</th>\n",
       "      <td>Eyck</td>\n",
       "      <td>Geralt</td>\n",
       "    </tr>\n",
       "    <tr>\n",
       "      <th>11</th>\n",
       "      <td>Eyck</td>\n",
       "      <td>Geralt</td>\n",
       "    </tr>\n",
       "    <tr>\n",
       "      <th>12</th>\n",
       "      <td>Eyck</td>\n",
       "      <td>Geralt</td>\n",
       "    </tr>\n",
       "    <tr>\n",
       "      <th>13</th>\n",
       "      <td>Eyck</td>\n",
       "      <td>Geralt</td>\n",
       "    </tr>\n",
       "    <tr>\n",
       "      <th>14</th>\n",
       "      <td>Eyck</td>\n",
       "      <td>Geralt</td>\n",
       "    </tr>\n",
       "    <tr>\n",
       "      <th>15</th>\n",
       "      <td>Eyck</td>\n",
       "      <td>Geralt</td>\n",
       "    </tr>\n",
       "    <tr>\n",
       "      <th>16</th>\n",
       "      <td>Eyck</td>\n",
       "      <td>Geralt</td>\n",
       "    </tr>\n",
       "    <tr>\n",
       "      <th>17</th>\n",
       "      <td>Eyck</td>\n",
       "      <td>Geralt</td>\n",
       "    </tr>\n",
       "    <tr>\n",
       "      <th>18</th>\n",
       "      <td>Eyck</td>\n",
       "      <td>Geralt</td>\n",
       "    </tr>\n",
       "    <tr>\n",
       "      <th>19</th>\n",
       "      <td>Dorregaray</td>\n",
       "      <td>Geralt</td>\n",
       "    </tr>\n",
       "  </tbody>\n",
       "</table>\n",
       "</div>"
      ],
      "text/plain": [
       "        source    target\n",
       "0       Geralt  Niedamir\n",
       "1       Geralt  Niedamir\n",
       "2       Geralt  Niedamir\n",
       "3       Geralt  Niedamir\n",
       "4       Geralt  Niedamir\n",
       "5       Geralt  Niedamir\n",
       "6       Geralt  Niedamir\n",
       "7       Geralt  Niedamir\n",
       "8       Geralt  Niedamir\n",
       "9         Eyck    Geralt\n",
       "10        Eyck    Geralt\n",
       "11        Eyck    Geralt\n",
       "12        Eyck    Geralt\n",
       "13        Eyck    Geralt\n",
       "14        Eyck    Geralt\n",
       "15        Eyck    Geralt\n",
       "16        Eyck    Geralt\n",
       "17        Eyck    Geralt\n",
       "18        Eyck    Geralt\n",
       "19  Dorregaray    Geralt"
      ]
     },
     "execution_count": 40,
     "metadata": {},
     "output_type": "execute_result"
    }
   ],
   "source": [
    "# Sort the cases with a->b and b->a by alphabetical for future grouping/counting\n",
    "relationship_df = pd.DataFrame(np.sort(relationship_df.values, axis = 1), columns = relationship_df.columns)\n",
    "relationship_df.head(20)"
   ]
  },
  {
   "cell_type": "code",
   "execution_count": 41,
   "id": "263ef190-3146-4030-b6c6-0ba432dfe285",
   "metadata": {},
   "outputs": [],
   "source": [
    "relationship_df[\"value\"] = 1\n",
    "relationship_df = relationship_df.groupby([\"source\",\"target\"], sort=False, as_index=False).sum()"
   ]
  },
  {
   "cell_type": "code",
   "execution_count": 42,
   "id": "cde877aa-1de5-420f-951a-5f362bf38b6e",
   "metadata": {},
   "outputs": [
    {
     "data": {
      "text/html": [
       "<div>\n",
       "<style scoped>\n",
       "    .dataframe tbody tr th:only-of-type {\n",
       "        vertical-align: middle;\n",
       "    }\n",
       "\n",
       "    .dataframe tbody tr th {\n",
       "        vertical-align: top;\n",
       "    }\n",
       "\n",
       "    .dataframe thead th {\n",
       "        text-align: right;\n",
       "    }\n",
       "</style>\n",
       "<table border=\"1\" class=\"dataframe\">\n",
       "  <thead>\n",
       "    <tr style=\"text-align: right;\">\n",
       "      <th></th>\n",
       "      <th>source</th>\n",
       "      <th>target</th>\n",
       "      <th>value</th>\n",
       "    </tr>\n",
       "  </thead>\n",
       "  <tbody>\n",
       "    <tr>\n",
       "      <th>0</th>\n",
       "      <td>Geralt</td>\n",
       "      <td>Niedamir</td>\n",
       "      <td>19</td>\n",
       "    </tr>\n",
       "    <tr>\n",
       "      <th>1</th>\n",
       "      <td>Eyck</td>\n",
       "      <td>Geralt</td>\n",
       "      <td>52</td>\n",
       "    </tr>\n",
       "    <tr>\n",
       "      <th>2</th>\n",
       "      <td>Dorregaray</td>\n",
       "      <td>Geralt</td>\n",
       "      <td>36</td>\n",
       "    </tr>\n",
       "    <tr>\n",
       "      <th>3</th>\n",
       "      <td>Dorregaray</td>\n",
       "      <td>Yennefer</td>\n",
       "      <td>100</td>\n",
       "    </tr>\n",
       "    <tr>\n",
       "      <th>4</th>\n",
       "      <td>Geralt</td>\n",
       "      <td>Yarpen</td>\n",
       "      <td>15</td>\n",
       "    </tr>\n",
       "    <tr>\n",
       "      <th>5</th>\n",
       "      <td>Gyllenstiern</td>\n",
       "      <td>Niedamir</td>\n",
       "      <td>33</td>\n",
       "    </tr>\n",
       "    <tr>\n",
       "      <th>6</th>\n",
       "      <td>Geralt</td>\n",
       "      <td>Kennet</td>\n",
       "      <td>2</td>\n",
       "    </tr>\n",
       "    <tr>\n",
       "      <th>7</th>\n",
       "      <td>Dorregaray</td>\n",
       "      <td>Yarpen</td>\n",
       "      <td>8</td>\n",
       "    </tr>\n",
       "    <tr>\n",
       "      <th>8</th>\n",
       "      <td>Boholt</td>\n",
       "      <td>Yennefer</td>\n",
       "      <td>66</td>\n",
       "    </tr>\n",
       "    <tr>\n",
       "      <th>9</th>\n",
       "      <td>Boholt</td>\n",
       "      <td>Gyllenstiern</td>\n",
       "      <td>19</td>\n",
       "    </tr>\n",
       "    <tr>\n",
       "      <th>10</th>\n",
       "      <td>Gyllenstiern</td>\n",
       "      <td>Yennefer</td>\n",
       "      <td>19</td>\n",
       "    </tr>\n",
       "    <tr>\n",
       "      <th>11</th>\n",
       "      <td>Boholt</td>\n",
       "      <td>Yarpen</td>\n",
       "      <td>55</td>\n",
       "    </tr>\n",
       "    <tr>\n",
       "      <th>12</th>\n",
       "      <td>Niedamir</td>\n",
       "      <td>Yarpen</td>\n",
       "      <td>13</td>\n",
       "    </tr>\n",
       "    <tr>\n",
       "      <th>13</th>\n",
       "      <td>Boholt</td>\n",
       "      <td>Eyck</td>\n",
       "      <td>25</td>\n",
       "    </tr>\n",
       "    <tr>\n",
       "      <th>14</th>\n",
       "      <td>Boholt</td>\n",
       "      <td>Geralt</td>\n",
       "      <td>35</td>\n",
       "    </tr>\n",
       "    <tr>\n",
       "      <th>15</th>\n",
       "      <td>Boholt</td>\n",
       "      <td>Crinfrid</td>\n",
       "      <td>6</td>\n",
       "    </tr>\n",
       "    <tr>\n",
       "      <th>16</th>\n",
       "      <td>Boholt</td>\n",
       "      <td>Kennet</td>\n",
       "      <td>8</td>\n",
       "    </tr>\n",
       "    <tr>\n",
       "      <th>17</th>\n",
       "      <td>Kennet</td>\n",
       "      <td>Yennefer</td>\n",
       "      <td>4</td>\n",
       "    </tr>\n",
       "    <tr>\n",
       "      <th>18</th>\n",
       "      <td>Yarpen</td>\n",
       "      <td>Yennefer</td>\n",
       "      <td>88</td>\n",
       "    </tr>\n",
       "    <tr>\n",
       "      <th>19</th>\n",
       "      <td>Niedamir</td>\n",
       "      <td>Yennefer</td>\n",
       "      <td>16</td>\n",
       "    </tr>\n",
       "  </tbody>\n",
       "</table>\n",
       "</div>"
      ],
      "text/plain": [
       "          source        target  value\n",
       "0         Geralt      Niedamir     19\n",
       "1           Eyck        Geralt     52\n",
       "2     Dorregaray        Geralt     36\n",
       "3     Dorregaray      Yennefer    100\n",
       "4         Geralt        Yarpen     15\n",
       "5   Gyllenstiern      Niedamir     33\n",
       "6         Geralt        Kennet      2\n",
       "7     Dorregaray        Yarpen      8\n",
       "8         Boholt      Yennefer     66\n",
       "9         Boholt  Gyllenstiern     19\n",
       "10  Gyllenstiern      Yennefer     19\n",
       "11        Boholt        Yarpen     55\n",
       "12      Niedamir        Yarpen     13\n",
       "13        Boholt          Eyck     25\n",
       "14        Boholt        Geralt     35\n",
       "15        Boholt      Crinfrid      6\n",
       "16        Boholt        Kennet      8\n",
       "17        Kennet      Yennefer      4\n",
       "18        Yarpen      Yennefer     88\n",
       "19      Niedamir      Yennefer     16"
      ]
     },
     "execution_count": 42,
     "metadata": {},
     "output_type": "execute_result"
    }
   ],
   "source": [
    "relationship_df.head(20)"
   ]
  },
  {
   "cell_type": "markdown",
   "id": "8225d99f-e7a0-4835-94dd-5a8353119657",
   "metadata": {},
   "source": [
    "## Graph analysis and visualization"
   ]
  },
  {
   "cell_type": "code",
   "execution_count": 43,
   "id": "a99bedb8-a747-497b-b291-8b8010cb0bec",
   "metadata": {},
   "outputs": [],
   "source": [
    "# Create a graph from a pandas dataframe\n",
    "G = nx.from_pandas_edgelist(relationship_df, \n",
    "                            source = \"source\", \n",
    "                            target = \"target\", \n",
    "                            edge_attr = \"value\", \n",
    "                            create_using = nx.Graph())"
   ]
  },
  {
   "cell_type": "markdown",
   "id": "4e572cb2-19be-47d0-bee8-9e20dc016a46",
   "metadata": {},
   "source": [
    "#### Graph visualization - Networkx"
   ]
  },
  {
   "cell_type": "code",
   "execution_count": 44,
   "id": "bb9f15ff-9261-40f5-9dd2-b8c9e0a86ee9",
   "metadata": {},
   "outputs": [
    {
     "data": {
      "image/png": "[encoded data removed]",
      "text/plain": [
       "<Figure size 1000x1000 with 1 Axes>"
      ]
     },
     "metadata": {},
     "output_type": "display_data"
    }
   ],
   "source": [
    "plt.figure(figsize=(10,10))\n",
    "pos = nx.kamada_kawai_layout(G)\n",
    "nx.draw(G, with_labels=True, node_color='skyblue', edge_cmap=plt.cm.Blues, pos = pos)\n",
    "plt.show()\n",
    "\n",
    "# ---> Try Dragging the Graph!"
   ]
  },
  {
   "cell_type": "markdown",
   "id": "b06308e4-b3d1-45ec-958c-da669d8c92e1",
   "metadata": {},
   "source": [
    "#### Graph visualization - Pyvis"
   ]
  },
  {
   "cell_type": "code",
   "execution_count": 59,
   "id": "1deb8f1e-cb17-4124-85c6-772b147009ca",
   "metadata": {},
   "outputs": [],
   "source": [
    "from pyvis.network import Network\n",
    "from ipython.display import display, HTML, IFrame"
   ]
  },
  {
   "cell_type": "code",
   "execution_count": 82,
   "id": "994d6839",
   "metadata": {},
   "outputs": [
    {
     "data": {
      "text/html": [
       "\n",
       "        <iframe\n",
       "            width=\"1920px\"\n",
       "            height=\"1080px\"\n",
       "            src=\"witcher.html\"\n",
       "            frameborder=\"0\"\n",
       "            allowfullscreen\n",
       "            \n",
       "        ></iframe>\n",
       "        "
      ],
      "text/plain": [
       "<IPython.lib.display.IFrame at 0x1b980d5baf0>"
      ]
     },
     "execution_count": 82,
     "metadata": {},
     "output_type": "execute_result"
    }
   ],
   "source": [
    "net = Network(notebook = True, width=\"1920px\", height=\"1080px\", bgcolor='#222222', font_color='white')\n",
    "node_degree = dict(G.degree)\n",
    "\n",
    "#Setting up node size attribute\n",
    "nx.set_node_attributes(G, node_degree, 'size')\n",
    "\n",
    "net.from_nx(G)\n",
    "#net.generate_html()\n",
    "net.show(\"witcher.html\")\n",
    "\n",
    "# ---> Try Dragging the Graph!"
   ]
  },
  {
   "cell_type": "markdown",
   "id": "e3dbff45-e023-4ca3-bf71-a8ada643e418",
   "metadata": {},
   "source": [
    "### The most important characters in The Witcher"
   ]
  },
  {
   "cell_type": "code",
   "execution_count": 70,
   "id": "42aadbfc-b125-4fc6-885e-edc80e3e02a7",
   "metadata": {
    "collapsed": true,
    "jupyter": {
     "outputs_hidden": true
    },
    "tags": []
   },
   "outputs": [
    {
     "data": {
      "text/plain": [
       "{'Geralt': 0.5932203389830508,\n",
       " 'Niedamir': 0.11864406779661017,\n",
       " 'Eyck': 0.13559322033898305,\n",
       " 'Dorregaray': 0.11864406779661017,\n",
       " 'Yennefer': 0.2542372881355932,\n",
       " 'Yarpen': 0.13559322033898305,\n",
       " 'Gyllenstiern': 0.13559322033898305,\n",
       " 'Kennet': 0.0847457627118644,\n",
       " 'Boholt': 0.15254237288135594,\n",
       " 'Crinfrid': 0.01694915254237288,\n",
       " 'Villentretenmerth': 0.05084745762711865,\n",
       " 'Istredd': 0.05084745762711865,\n",
       " 'Herbolth': 0.03389830508474576,\n",
       " 'Ivo': 0.01694915254237288,\n",
       " 'Two': 0.05084745762711865,\n",
       " 'Vespula': 0.05084745762711865,\n",
       " 'Dainty': 0.0847457627118644,\n",
       " 'Dandelion': 0.11864406779661017,\n",
       " 'Rhyd': 0.01694915254237288,\n",
       " 'Vimme': 0.0847457627118644,\n",
       " 'Ther': 0.01694915254237288,\n",
       " 'Sulimir': 0.01694915254237288,\n",
       " 'Rhundurin': 0.01694915254237288,\n",
       " 'Dudu': 0.05084745762711865,\n",
       " \"Sh'eenaz\": 0.0847457627118644,\n",
       " 'Dalia': 0.03389830508474576,\n",
       " 'Teleri': 0.01694915254237288,\n",
       " 'Mestvin': 0.03389830508474576,\n",
       " 'Essi': 0.11864406779661017,\n",
       " 'Gerard': 0.01694915254237288,\n",
       " 'Zelest': 0.03389830508474576,\n",
       " 'Duke': 0.01694915254237288,\n",
       " 'Veverka': 0.03389830508474576,\n",
       " 'Juan': 0.01694915254237288,\n",
       " 'Putzi': 0.01694915254237288,\n",
       " 'Cynthia': 0.01694915254237288,\n",
       " 'Braenn': 0.11864406779661017,\n",
       " 'Ciri': 0.2033898305084746,\n",
       " 'Marck': 0.01694915254237288,\n",
       " 'Voymir': 0.05084745762711865,\n",
       " 'Ervyll': 0.0847457627118644,\n",
       " 'Kistrin': 0.05084745762711865,\n",
       " 'Vesemir': 0.03389830508474576,\n",
       " 'Freixenet': 0.06779661016949153,\n",
       " 'Venzlav': 0.0847457627118644,\n",
       " 'Viraxas': 0.03389830508474576,\n",
       " 'Morenn': 0.01694915254237288,\n",
       " 'Mona': 0.01694915254237288,\n",
       " 'Forest': 0.03389830508474576,\n",
       " 'Pavetta': 0.01694915254237288,\n",
       " 'Levecque': 0.1016949152542373,\n",
       " 'Junghans': 0.01694915254237288,\n",
       " 'Brick': 0.01694915254237288,\n",
       " 'Mousesack': 0.03389830508474576,\n",
       " 'Yurga': 0.1016949152542373,\n",
       " 'Visenna': 0.03389830508474576,\n",
       " 'Atlan': 0.03389830508474576,\n",
       " 'Vanielle': 0.01694915254237288,\n",
       " 'Lytta': 0.01694915254237288,\n",
       " 'Roach': 0.05084745762711865}"
      ]
     },
     "execution_count": 70,
     "metadata": {},
     "output_type": "execute_result"
    }
   ],
   "source": [
    "# Degree centrality\n",
    "degree_dict = nx.degree_centrality(G)\n",
    "degree_dict"
   ]
  },
  {
   "cell_type": "code",
   "execution_count": 71,
   "id": "0a164b12-5c6f-4ca7-b955-945a8c52ea7b",
   "metadata": {},
   "outputs": [
    {
     "data": {
      "text/plain": [
       "<AxesSubplot:>"
      ]
     },
     "execution_count": 71,
     "metadata": {},
     "output_type": "execute_result"
    },
    {
     "data": {
      "image/png": "[encoded data removed]",
      "text/plain": [
       "<Figure size 640x480 with 1 Axes>"
      ]
     },
     "metadata": {},
     "output_type": "display_data"
    }
   ],
   "source": [
    "degree_df = pd.DataFrame.from_dict(degree_dict, orient='index', columns=['centrality'])\n",
    "# Plot top 10 nodes\n",
    "degree_df.sort_values('centrality', ascending=False)[0:9].plot(kind=\"bar\")"
   ]
  },
  {
   "cell_type": "code",
   "execution_count": 72,
   "id": "86dcd72d-afde-42bd-8073-3cf4a3568805",
   "metadata": {},
   "outputs": [
    {
     "data": {
      "text/plain": [
       "<AxesSubplot:>"
      ]
     },
     "execution_count": 72,
     "metadata": {},
     "output_type": "execute_result"
    },
    {
     "data": {
      "image/png": "[encoded data removed]",
      "text/plain": [
       "<Figure size 640x480 with 1 Axes>"
      ]
     },
     "metadata": {},
     "output_type": "display_data"
    }
   ],
   "source": [
    "# Betweenness centrality\n",
    "betweenness_dict = nx.betweenness_centrality(G)\n",
    "betweenness_df = pd.DataFrame.from_dict(betweenness_dict, orient='index', columns=['centrality'])\n",
    "# Plot top 10 nodes\n",
    "betweenness_df.sort_values('centrality', ascending=False)[0:9].plot(kind=\"bar\")"
   ]
  },
  {
   "cell_type": "code",
   "execution_count": 73,
   "id": "fda1e1b8-a301-4a0f-97ab-9427b841fae1",
   "metadata": {},
   "outputs": [
    {
     "data": {
      "text/plain": [
       "<AxesSubplot:>"
      ]
     },
     "execution_count": 73,
     "metadata": {},
     "output_type": "execute_result"
    },
    {
     "data": {
      "image/png": "[encoded data removed]",
      "text/plain": [
       "<Figure size 640x480 with 1 Axes>"
      ]
     },
     "metadata": {},
     "output_type": "display_data"
    }
   ],
   "source": [
    "# Closeness centrality\n",
    "closeness_dict = nx.closeness_centrality(G)\n",
    "closeness_df = pd.DataFrame.from_dict(closeness_dict, orient='index', columns=['centrality'])\n",
    "# Plot top 10 nodes\n",
    "closeness_df.sort_values('centrality', ascending=False)[0:9].plot(kind=\"bar\")"
   ]
  },
  {
   "cell_type": "code",
   "execution_count": 74,
   "id": "53235c9f-b3cf-4304-8fa4-230b2e9da8ce",
   "metadata": {},
   "outputs": [],
   "source": [
    "# Save centrality measures\n",
    "nx.set_node_attributes(G, degree_dict, 'degree_centrality')\n",
    "nx.set_node_attributes(G, betweenness_dict, 'betweenness_centrality')\n",
    "nx.set_node_attributes(G, closeness_dict, 'closeness_centrality')"
   ]
  },
  {
   "cell_type": "markdown",
   "id": "7a855604-0781-4d49-b4ae-c8c56a53a970",
   "metadata": {},
   "source": [
    "### Community detection"
   ]
  },
  {
   "cell_type": "code",
   "execution_count": 76,
   "id": "4343134e-c409-4ff4-a547-60ff12b7802d",
   "metadata": {},
   "outputs": [],
   "source": [
    "import community as community_louvain"
   ]
  },
  {
   "cell_type": "code",
   "execution_count": 77,
   "id": "a84cdd86-7dbe-4451-88ad-c8393e7de6de",
   "metadata": {},
   "outputs": [],
   "source": [
    "communities = community_louvain.best_partition(G)"
   ]
  },
  {
   "cell_type": "code",
   "execution_count": 78,
   "id": "7e2fed37-9cb1-40e9-8c72-c75efe25e569",
   "metadata": {
    "collapsed": true,
    "jupyter": {
     "outputs_hidden": true
    },
    "tags": []
   },
   "outputs": [
    {
     "data": {
      "text/plain": [
       "{'Geralt': 2,\n",
       " 'Niedamir': 1,\n",
       " 'Eyck': 1,\n",
       " 'Dorregaray': 1,\n",
       " 'Yennefer': 1,\n",
       " 'Yarpen': 1,\n",
       " 'Gyllenstiern': 1,\n",
       " 'Kennet': 1,\n",
       " 'Boholt': 1,\n",
       " 'Crinfrid': 1,\n",
       " 'Villentretenmerth': 1,\n",
       " 'Istredd': 2,\n",
       " 'Herbolth': 2,\n",
       " 'Ivo': 2,\n",
       " 'Two': 2,\n",
       " 'Vespula': 3,\n",
       " 'Dainty': 3,\n",
       " 'Dandelion': 3,\n",
       " 'Rhyd': 3,\n",
       " 'Vimme': 3,\n",
       " 'Ther': 3,\n",
       " 'Sulimir': 3,\n",
       " 'Rhundurin': 3,\n",
       " 'Dudu': 3,\n",
       " \"Sh'eenaz\": 3,\n",
       " 'Dalia': 3,\n",
       " 'Teleri': 3,\n",
       " 'Mestvin': 3,\n",
       " 'Essi': 3,\n",
       " 'Gerard': 2,\n",
       " 'Zelest': 3,\n",
       " 'Duke': 3,\n",
       " 'Veverka': 2,\n",
       " 'Juan': 4,\n",
       " 'Putzi': 4,\n",
       " 'Cynthia': 3,\n",
       " 'Braenn': 0,\n",
       " 'Ciri': 0,\n",
       " 'Marck': 0,\n",
       " 'Voymir': 0,\n",
       " 'Ervyll': 0,\n",
       " 'Kistrin': 0,\n",
       " 'Vesemir': 0,\n",
       " 'Freixenet': 0,\n",
       " 'Venzlav': 0,\n",
       " 'Viraxas': 0,\n",
       " 'Morenn': 0,\n",
       " 'Mona': 0,\n",
       " 'Forest': 0,\n",
       " 'Pavetta': 0,\n",
       " 'Levecque': 0,\n",
       " 'Junghans': 0,\n",
       " 'Brick': 0,\n",
       " 'Mousesack': 0,\n",
       " 'Yurga': 2,\n",
       " 'Visenna': 2,\n",
       " 'Atlan': 2,\n",
       " 'Vanielle': 2,\n",
       " 'Lytta': 2,\n",
       " 'Roach': 2}"
      ]
     },
     "execution_count": 78,
     "metadata": {},
     "output_type": "execute_result"
    }
   ],
   "source": [
    "communities"
   ]
  },
  {
   "cell_type": "code",
   "execution_count": 79,
   "id": "e35f867d-2089-4b02-af89-8686aab5b794",
   "metadata": {},
   "outputs": [],
   "source": [
    "nx.set_node_attributes(G, communities, 'group')"
   ]
  },
  {
   "cell_type": "code",
   "execution_count": 81,
   "id": "3a238cc0-46f3-4472-ae47-f81fd7fd2350",
   "metadata": {},
   "outputs": [
    {
     "data": {
      "text/html": [
       "\n",
       "        <iframe\n",
       "            width=\"1920px\"\n",
       "            height=\"1080px\"\n",
       "            src=\"witcher_communities.html\"\n",
       "            frameborder=\"0\"\n",
       "            allowfullscreen\n",
       "            \n",
       "        ></iframe>\n",
       "        "
      ],
      "text/plain": [
       "<IPython.lib.display.IFrame at 0x1b980d5f400>"
      ]
     },
     "execution_count": 81,
     "metadata": {},
     "output_type": "execute_result"
    }
   ],
   "source": [
    "com_net = Network(notebook = True, width=\"1920px\", height=\"1080px\", bgcolor='#222222', font_color='white')\n",
    "com_net.from_nx(G)\n",
    "com_net.show(\"witcher_communities.html\")"
   ]
  },
  {
   "cell_type": "markdown",
   "id": "51fb2a3a-1c74-47d4-a83b-62a1f6295ae6",
   "metadata": {},
   "source": [
    "### Evolution of characters' importance"
   ]
  },
  {
   "cell_type": "code",
   "execution_count": 5,
   "id": "c622e5e4-7171-4ab9-b030-3e8325d0231b",
   "metadata": {},
   "outputs": [],
   "source": [
    "from lib.utils.functions import *"
   ]
  },
  {
   "cell_type": "code",
   "execution_count": 6,
   "id": "ba0d5c1f-674d-4ccf-958f-9bb3ed33c95b",
   "metadata": {},
   "outputs": [],
   "source": [
    "# Initialize empty list for graphs from books\n",
    "books_graph = []\n",
    "all_books = [b for b in os.scandir('data') if '.txt' in b.name]\n",
    "# Load spacy English languague model\n",
    "nlp = spacy.load(\"en_core_web_sm\")\n",
    "\n",
    "# Sort dir entries by name\n",
    "all_books.sort(key=lambda x: x.name)"
   ]
  },
  {
   "cell_type": "code",
   "execution_count": null,
   "id": "44dd59cb-d211-453d-9ff8-c78128310079",
   "metadata": {
    "collapsed": true,
    "jupyter": {
     "outputs_hidden": true
    },
    "tags": []
   },
   "outputs": [],
   "source": [
    "# Loop through book list and create graphs\n",
    "for book in all_books:\n",
    "    book_text = ner(book)\n",
    "    \n",
    "    # Get list of entities per sentences\n",
    "    sent_entity_df = get_ne_list_per_sentence(book_text)\n",
    "    \n",
    "    # Select only character entities\n",
    "    sent_entity_df['character_entities'] = sent_entity_df['entities'].apply(lambda x: filter_entity(x, character_df))\n",
    "\n",
    "    # Filter out sentences that don't have any character entities\n",
    "    sent_entity_df_filtered = sent_entity_df[sent_entity_df['character_entities'].map(len) > 0]\n",
    "    \n",
    "    # Take only first name of characters\n",
    "    sent_entity_df_filtered['character_entities'] = sent_entity_df_filtered['character_entities'].apply(lambda x: [item.split()[0] \n",
    "                                                                                                               for item in x])\n",
    "\n",
    "    # Create relationship df\n",
    "    relationship_df = create_relationships(df = sent_entity_df_filtered, window_size = 5)                                                                                                               \n",
    "    \n",
    "    # Create a graph from a pandas dataframe\n",
    "    G = nx.from_pandas_edgelist(relationship_df, \n",
    "                                source = \"source\", \n",
    "                                target = \"target\", \n",
    "                                edge_attr = \"value\", \n",
    "                                create_using = nx.Graph())     \n",
    "    \n",
    "    books_graph.append(G) "
   ]
  },
  {
   "cell_type": "code",
   "execution_count": 8,
   "id": "0d00e71a-980d-405b-b7f1-3ed9f5b9ab81",
   "metadata": {},
   "outputs": [
    {
     "data": {
      "text/plain": [
       "<AxesSubplot:>"
      ]
     },
     "execution_count": 8,
     "metadata": {},
     "output_type": "execute_result"
    },
    {
     "data": {
      "image/png": "[encoded data removed]",
      "text/plain": [
       "<Figure size 432x288 with 1 Axes>"
      ]
     },
     "metadata": {
      "needs_background": "light"
     },
     "output_type": "display_data"
    }
   ],
   "source": [
    "# Creating a list of degree centrality of all the books\n",
    "evol = [nx.degree_centrality(book) for book in books_graph]\n",
    "\n",
    "# Creating a DataFrame from the list of degree centralities in all the books\n",
    "degree_evol_df = pd.DataFrame.from_records(evol)\n",
    "\n",
    "# Plotting the degree centrality evolution of 5 main characters\n",
    "degree_evol_df[[\"Geralt\", \"Ciri\", \"Yennefer\", \"Dandelion\", \"Vesemir\"]].plot()"
   ]
  }
 ],
 "metadata": {
  "kernelspec": {
   "display_name": "Python 3.10.6 64-bit",
   "language": "python",
   "name": "python3"
  },
  "language_info": {
   "codemirror_mode": {
    "name": "ipython",
    "version": 3
   },
   "file_extension": ".py",
   "mimetype": "text/x-python",
   "name": "python",
   "nbconvert_exporter": "python",
   "pygments_lexer": "ipython3",
   "version": "3.10.6"
  },
  "vscode": {
   "interpreter": {
    "hash": "369f2c481f4da34e4445cda3fffd2e751bd1c4d706f27375911949ba6bb62e1c"
   }
  }
 },
 "nbformat": 4,
 "nbformat_minor": 5
}
